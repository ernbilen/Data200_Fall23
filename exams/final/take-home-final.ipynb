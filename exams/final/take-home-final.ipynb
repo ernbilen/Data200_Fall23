{
 "cells": [
  {
   "cell_type": "markdown",
   "id": "7efdf842",
   "metadata": {},
   "source": [
    "# Take-Home Final Exam\n",
    "\n",
    "**Dickinson College**<br/>\n",
    "**Fall 2023**<br/>\n",
    "Prof. Eren Bilen<br/>\n",
    "<font color='red'>**Due Date:** Friday December 13, 5pm </font>\n",
    "---\n",
    "Enter your name in the markdown cell below."
   ]
  },
  {
   "cell_type": "markdown",
   "id": "41d253f4",
   "metadata": {},
   "source": [
    "# Name :\n",
    "<br>\n"
   ]
  },
  {
   "cell_type": "markdown",
   "id": "4a7af585",
   "metadata": {},
   "source": [
    "# Task\n",
    "\n",
    "On this exam, you will\n",
    "\n",
    "- choose one dataset that interests you from tidytuesday: https://github.com/rfordatascience/tidytuesday.\n",
    "- choose a second dataset, which is not from tidytuesday but could be from anywhere on the internet, including but not limited to data from an API, or scraped data, Google Search Trends, Kaggle, or any data published by an official government statistics office, such as the U.S. census bureau (or its equivalent office from another country depending on what dataset you pick from tidytuesday)\n",
    "- merge the two data sets you picked on the appropriate key variable(s).\n",
    "- process/clean the data using pandas and numpy where needed.\n",
    "- Present three main \"findings\" in form of Exploratory Data Analysis (EDA).\n",
    "    - These findings should create a \"wow\" effect. Usually these attention grabbing results take the form of a visualization, so I'm copying below six visualizations that I believe are good examples that achieve this effect.\n",
    "    - Interpret your findings at the highest depth you can, and be accurate in your claims and interpretation. Feel free to cite additional resources for the \"depth\". For example, if you are presenting data from the Roman Empire, and a number of historians have hypotheses on a certain aspect of the Roman Empire, you can refer to those hypotheses in interpreting your findings.\n",
    "    - Note that you can use 2d visualizations, or you can also use multiple 1d visualizations or tables presented seperately, but put together in a context in your interpretation.\n",
    "- Commit and push your notebook + your final data once you are done by the deadline.\n",
    "- Here is the rubric I will follow to grade your submission:\n",
    "\n",
    "\n",
    "\n",
    "| item | weight\n",
    "| :---        |    :---   |\n",
    "|novelty/originality of the final combined data | 20%\n",
    "|creativity of the idea, and in the results presented | 20%\n",
    "|accuracy and depth of the interpretations | 20%\n",
    "|implications for stakeholders, takeaways | 20%\n",
    "|organization of the code and the jupyter notebook submitted, annotations of the code | 20%\n",
    "\n",
    "**IMPORTANT:** Go to https://docs.google.com/spreadsheets/d/1xCPGlt-FsAqz2zJtO36ljOOU6m7ry6H9PSimctR7MlM/edit?usp=sharing and add your tidytuesday data to the list. **A tidytuesday dataset can only be used by one student on this exam (so I get to read new results from each of you), and it's first come first serve basis.** So, once you find your data, go to the google sheet link and add your data asap. The deadline to do this is December 9, 11:59p (midnight).\n",
    "\n",
    "Once again, note that you must combine data from at least two datasets (one must be from tidytuesday) and you must present at least three main findings and interpret them.\n",
    "\n",
    "Feel free to reach out if you have any questions.\n",
    "\n",
    "Good luck,\n",
    "Prof. B"
   ]
  },
  {
   "cell_type": "markdown",
   "id": "06875cc8",
   "metadata": {},
   "source": [
    "<img src=\"attach1.png\">\n",
    "\n",
    "<img src=\"attach2.png\">\n",
    "\n",
    "<img src=\"attach3.png\">\n",
    "\n",
    "<img src=\"attach4.png\">\n",
    "\n",
    "<img src=\"attach5.png\">\n",
    "\n",
    "<img src=\"attach6.png\">"
   ]
  }
 ],
 "metadata": {
  "kernelspec": {
   "display_name": "Python 3",
   "language": "python",
   "name": "python3"
  },
  "language_info": {
   "codemirror_mode": {
    "name": "ipython",
    "version": 3
   },
   "file_extension": ".py",
   "mimetype": "text/x-python",
   "name": "python",
   "nbconvert_exporter": "python",
   "pygments_lexer": "ipython3",
   "version": "3.7.6"
  }
 },
 "nbformat": 4,
 "nbformat_minor": 5
}
