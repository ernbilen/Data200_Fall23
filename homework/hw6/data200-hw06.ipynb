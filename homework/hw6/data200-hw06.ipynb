{
 "cells": [
  {
   "cell_type": "markdown",
   "metadata": {},
   "source": [
    "# Data 200: Data Systems for Data Analytics\n"
   ]
  },
  {
   "cell_type": "markdown",
   "metadata": {},
   "source": [
    "# Homework 6: Inner and Outer Joins in SQL\n",
    "\n",
    "\n",
    "<font color='red'>**Due Date:** November 9 beginning of class. </font>\n",
    "---\n",
    "Enter your name in the markdown cell below."
   ]
  },
  {
   "cell_type": "markdown",
   "metadata": {},
   "source": [
    "# Name:"
   ]
  },
  {
   "cell_type": "markdown",
   "metadata": {},
   "source": [
    "# Tasks\n",
    "\n",
    "- **Make sure you have installed SQL Magic before beginning.**\n",
    "- Review pages 356-368 in Bressoud & White textbook.\n",
    "- Commit and push your completed `.ipynb` and `.md` files"
   ]
  },
  {
   "cell_type": "markdown",
   "metadata": {},
   "source": [
    "# Exercises"
   ]
  },
  {
   "cell_type": "markdown",
   "metadata": {},
   "source": [
    "This homework will make use of the`school.db` database, which is available under `/data` folder on course Github page. I suggest that you review pages 225-227 in the Course Notes to familiarize yourself with the tables in this database.  You may also want to open the `school.db` database in SQLite Studio to examine the tables as you work on the queries below, or run\n",
    "\n",
    "<!---\n",
    "SELECT name FROM sqlite_master\n",
    "WHERE type='table'\n",
    "-->\n",
    "\n",
    "**Load the `school.db` database which is already in the same directory as this notebook.**\n",
    "\n",
    "**Then, run the code cells below to load the SQL Magic module and connect to the `school.db` database.**"
   ]
  },
  {
   "cell_type": "code",
   "execution_count": null,
   "metadata": {},
   "outputs": [],
   "source": [
    "%load_ext sql"
   ]
  },
  {
   "cell_type": "code",
   "execution_count": null,
   "metadata": {},
   "outputs": [],
   "source": [
    "%sql sqlite:///school.db"
   ]
  },
  {
   "cell_type": "markdown",
   "metadata": {},
   "source": [
    "<div class=\"exercise\"><b>Exercise 1:</b></div> \n",
    "\n",
    "Write a query to obtain the department chairs for Modern Language (`'LANG'`), Philosophy (`'PHIL'`), and Mathematics and Computer Science (`'MATH'`).  Return the department name, the chair's last name, and the chair's first name.\n",
    "\n",
    "Below is the output from my solution:<br>\n",
    "<code>\n",
    "departmentname\t              instructorlast\tinstructorfirst\n",
    "Modern Language\t             Brown\t         Danielle\n",
    "Mathematics & Computer Science  Bradley       \tBetty\n",
    "Philosophy\t                  Singhal\t       Aarav\n",
    "</code>"
   ]
  },
  {
   "cell_type": "code",
   "execution_count": null,
   "metadata": {},
   "outputs": [],
   "source": [
    "%%sql\n",
    "\n",
    "/* Enter your SQL query below */\n",
    "\n"
   ]
  },
  {
   "cell_type": "markdown",
   "metadata": {},
   "source": [
    "<div class=\"exercise\"><b>Exercise 2:</b></div> \n",
    "\n",
    "Write a query to list all of the students who are mathematics (`'MATH'`) majors.  Include the student's last and first name, along with the name of the department.  Order the results by last name, first name.  Limit the results to 6 rows.\n",
    "\n",
    "Below is the output from my solution:<br>\n",
    "<code>\n",
    "studentlast\tstudentfirst\tsubjectname\n",
    "Barnett\t    Larry\t       Mathematics\n",
    "Campbell\t   Gloria\t      Mathematics\n",
    "Chapman\t    Robert\t      Mathematics\n",
    "Colombo\t    Giulia\t      Mathematics\n",
    "Davis\t      Crystal\t     Mathematics\n",
    "Edwards    \tGary\t        Mathematics\n",
    "</code>"
   ]
  },
  {
   "cell_type": "code",
   "execution_count": null,
   "metadata": {},
   "outputs": [],
   "source": [
    "%%sql\n",
    "\n",
    "/* Enter your SQL query below */\n",
    "\n"
   ]
  },
  {
   "cell_type": "markdown",
   "metadata": {},
   "source": [
    "<div class=\"exercise\"><b>Exercise 3:</b></div> \n",
    "\n",
    "Write a query to list all of the students who are taking Math 123-03 in the fall (this corresponds to `classid=40326`). Please use a `USING` clause on `studentid` (to give you practice with it).  Order the results by last name, first name.  Limit the results to 6 rows.  \n",
    "\n",
    "Below is the output from my solution:<br>\n",
    "<code>\n",
    "studentlast\tstudentfirst\n",
    "Brewer\t     Scott\n",
    "Castillo\t   Stephen\n",
    "Chapman\t    Robert\n",
    "Coleman\t    Billy\n",
    "Dunn\t       Diane\n",
    "Fox\t        Luke\n",
    "</code>"
   ]
  },
  {
   "cell_type": "code",
   "execution_count": null,
   "metadata": {},
   "outputs": [],
   "source": [
    "%%sql\n",
    "\n",
    "/* Enter your SQL query below */\n",
    "\n"
   ]
  },
  {
   "cell_type": "markdown",
   "metadata": {},
   "source": [
    "<div class=\"exercise\"><b>Exercise 4:</b></div> \n",
    "\n",
    "Write a query to find which instructors (last and first names) are teaching in the spring semester.  Your result should not contain any duplicates.  Order the results by last name, first name.  Limit the results to 10 rows.\n",
    "\n",
    "Below is the output from my solution:<br>\n",
    "<code>\n",
    "instructorlast\tinstructorfirst\n",
    "Aguilar\t       Stephen\n",
    "Anderson\t      Philip\n",
    "Arnaud\t        Antoine\n",
    "Austin\t        Stephanie\n",
    "Bailey\t        Jayden\n",
    "Balasubramanium   Hemant\n",
    "Balasubramanium   Vishal\n",
    "Banks\t         Carolyn\n",
    "Banks\t         David\n",
    "Barnes   \t     Deborah\n",
    "</code>"
   ]
  },
  {
   "cell_type": "code",
   "execution_count": null,
   "metadata": {},
   "outputs": [],
   "source": [
    "%%sql\n",
    "\n",
    "/* Enter your SQL query below */\n",
    "\n"
   ]
  },
  {
   "cell_type": "markdown",
   "metadata": {},
   "source": [
    "<div class=\"exercise\"><b>Exercise 5:</b></div> \n",
    "\n",
    "Write a query to list all courses (subject and number) that were *not* taught in either the fall or spring semesters.  **Hint:** Recall that LEFT JOIN can be used to compute *set differences*.  In particular, you will need to use a left join of the `courses` and `classes` tables.  Furthermore, in order to match up the course subject and number, you may want to use `USING (coursesubject, coursenum)`. Order your results by the course subject and limit your results to six rows.\n",
    "\n",
    "The output from my solution is:<br>\n",
    "<code>\n",
    "coursesubject\tcoursenum\n",
    "ARTH\t         363\n",
    "ARTH\t         452\n",
    "BIOL\t         363\n",
    "BIOL\t         364\n",
    "BLST\t         265\n",
    "BLST\t         361\n",
    "</code>"
   ]
  },
  {
   "cell_type": "code",
   "execution_count": null,
   "metadata": {},
   "outputs": [],
   "source": [
    "%%sql\n",
    "\n",
    "/* Enter your SQL query below */\n",
    "\n"
   ]
  },
  {
   "cell_type": "markdown",
   "metadata": {},
   "source": [
    "<div class=\"exercise\"><b>Exercise 6:</b></div> \n",
    "\n",
    "Write a query to find all English courses (subject, number, and title) that were *not* offered in either the fall or spring semesters.  *This is very similar to the previous exercise*.\n",
    "\n",
    "The output from my solution is:<br>\n",
    "<code>\n",
    "coursesubject\tcoursenum\tcoursetitle\n",
    "ENGL\t         340\t      Contemporary Drama\n",
    "ENGL\t         349\t      Studies in European Lit\n",
    "</code>"
   ]
  },
  {
   "cell_type": "code",
   "execution_count": null,
   "metadata": {},
   "outputs": [],
   "source": [
    "%%sql\n",
    "\n",
    "/* Enter your SQL query below */\n",
    "\n"
   ]
  },
  {
   "cell_type": "markdown",
   "metadata": {},
   "source": [
    "<div class=\"exercise\"><b>Exercise 7:</b></div> \n",
    "\n",
    "Write a query to list instructors (first and last names) and the *number of students* they taught during the year (both fall and spring semesters).  Only include instructors who were actually teaching.  Please name the new column `total_taught` and order your results from smallest to largest.  Limit the results to 10 rows. **Hint:** You will need to join three different tables and use a GROUP BY to accomplish this task.\n",
    "\n",
    "The output from my solution is:<br>\n",
    "<code>\n",
    "instructorfirst\tinstructorlast\ttotal_taught\n",
    "Margaux\t        Gillet            1\n",
    "Lisa\t           Fuller\t        1\n",
    "Bobby\t          Hall\t          1\n",
    "Harrison\t       Gray\t          1\n",
    "Aarav\t          Jhadav\t        2\n",
    "Kyle\t           Stevens\t       4\n",
    "Rose\t           James\t         5\n",
    "Philip\t         Anderson\t      7\n",
    "Paul\t           Dixon\t         7\n",
    "Michelle\t       Young\t         8\n",
    "</code>"
   ]
  },
  {
   "cell_type": "code",
   "execution_count": null,
   "metadata": {},
   "outputs": [],
   "source": [
    "%%sql\n",
    "\n",
    "/* Enter your SQL query below */\n",
    "\n"
   ]
  },
  {
   "cell_type": "markdown",
   "metadata": {},
   "source": [
    "<div class=\"exercise\"><b>Exercise 8:</b></div> \n",
    "\n",
    "Note that in the last exercise we learned that the instructor Kyle Stevens only taught a total of 4 students during the year (which is strange--let's investigate).  Write a query to list the student IDs of these four students, along with the course subject, course number, and course title.  **Hint 1:** In my solution, I joined together five different tables (using four INNER JOIN statements)!  **Hint 2:** You may want to first see if you can list the course subject, course number, and student ID.  Then join the fifth table to get the course title.  That is, sometimes it's easier to build your query in stages to make it more manageable.\n",
    "\n",
    "The output from my solution is (we can see that Kyle only taught senior research and directed studies):<br>\n",
    "<code>\n",
    "coursesubject\tcoursenum\tcoursetitle\t   studentid\n",
    "BIOL\t         452\t      Senior Research   61724\n",
    "BIOL\t         451\t      Senior Research   61724\n",
    "BIOL\t         362\t      Directed Study    62419\n",
    "BIOL\t         362\t      Directed Study    62925\n",
    "</code>"
   ]
  },
  {
   "cell_type": "code",
   "execution_count": null,
   "metadata": {},
   "outputs": [],
   "source": [
    "%%sql\n",
    "\n",
    "/* Enter your SQL query below */\n",
    "\n"
   ]
  }
 ],
 "metadata": {
  "celltoolbar": "Raw Cell Format",
  "kernelspec": {
   "display_name": "Python 3 (ipykernel)",
   "language": "python",
   "name": "python3"
  },
  "language_info": {
   "codemirror_mode": {
    "name": "ipython",
    "version": 3
   },
   "file_extension": ".py",
   "mimetype": "text/x-python",
   "name": "python",
   "nbconvert_exporter": "python",
   "pygments_lexer": "ipython3",
   "version": "3.9.13"
  }
 },
 "nbformat": 4,
 "nbformat_minor": 2
}
