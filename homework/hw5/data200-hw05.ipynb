{
 "cells": [
  {
   "cell_type": "markdown",
   "metadata": {},
   "source": [
    "# Data 200: Data Systems for Data Analytics\n"
   ]
  },
  {
   "cell_type": "markdown",
   "metadata": {},
   "source": [
    "# Homework 5: Single Table Operations with SQL Part 1\n",
    "\n",
    "\n",
    "<font color='red'>**Due Date and Time:** Oct 31 beginning of class. </font>\n",
    "---\n",
    "Enter your name in the markdown cell below."
   ]
  },
  {
   "cell_type": "markdown",
   "metadata": {},
   "source": [
    "# Name:"
   ]
  },
  {
   "cell_type": "markdown",
   "metadata": {},
   "source": [
    "# Tasks\n",
    "\n",
    "- **Make sure you have installed SQL Magic before you begin** via `! pip install ipython-sql`.\n",
    "- Review pages 313-335 in the Bressoud & White Introduction to Data Systems.\n",
    "- Complete the **Selecting Columns** and **Filtering Rows** chapters of the **Intermediate SQL Queries** course on DataCamp."
   ]
  },
  {
   "cell_type": "markdown",
   "metadata": {},
   "source": [
    "# Exercises"
   ]
  },
  {
   "cell_type": "markdown",
   "metadata": {},
   "source": [
    "This homework will make use of the `book.db` database, which should already be located in the same folder as this notebook in your clone repo.  I suggest that you review pages 315-317 in the course textbook to familiarize yourself with the tables in `book.db`.\n",
    "\n",
    "**Make sure the `book.db` database is in the same directory as this notebook**, so the chunk below can execute.\n",
    "\n",
    "Then, run the code cell below to load the SQL Magic module and connect to the `book.db` database. Don't forget to install the `ipython-sql` package if you have not already."
   ]
  },
  {
   "cell_type": "code",
   "execution_count": null,
   "metadata": {},
   "outputs": [],
   "source": [
    "%load_ext sql\n",
    "%sql sqlite:///book.db"
   ]
  },
  {
   "cell_type": "markdown",
   "metadata": {},
   "source": [
    "<div class=\"exercise\"><b>Exercise 1:</b></div> \n",
    "\n",
    "Select the `year`, `code`, `pop`, and `cell` fields from the `indicators` table, limiting the results to 5 records.\n",
    "\n",
    "The output from my solution is:<br>\n",
    "<code>\n",
    "year\tcode   pop\tcell\n",
    "1960\tABW\t0.05\t0.0\n",
    "1960\tAFG\t9.0\t 0.0\n",
    "1960\tAGO\t5.45\t0.0\n",
    "1960\tALB\t1.61\t0.0\n",
    "1960\tAND\t0.01\t0.0\n",
    "</code>"
   ]
  },
  {
   "cell_type": "code",
   "execution_count": null,
   "metadata": {},
   "outputs": [],
   "source": [
    "%%sql\n",
    "/* Enter your SQL query below */\n",
    "\n"
   ]
  },
  {
   "cell_type": "markdown",
   "metadata": {},
   "source": [
    "<div class=\"exercise\"><b>Exercise 2:</b></div> \n",
    "\n",
    "Use an SQL query to select the `year`, `code`, `pop`, `gdp`, and `life` fields from the `indicators` table, ordered by life expectancy from high to low.  Limit the number of records to six.\n",
    "\n",
    "The output from my solution is:<br>\n",
    "<code>\n",
    "year\tcode\tpop\tgdp\t   life\n",
    "2012\tSMR\t0.03\t1.8\t   85.4\n",
    "2017\tHKG\t7.39\t341.65\t84.7\n",
    "2015\tHKG\t7.29\t309.38\t84.3\n",
    "2016\tHKG\t7.34\t320.86\t84.2\n",
    "2017\tJPN\t126.79  4859.95   84.1\n",
    "2014\tHKG\t7.23\t291.46\t84.0\n",
    "</code>"
   ]
  },
  {
   "cell_type": "code",
   "execution_count": null,
   "metadata": {},
   "outputs": [],
   "source": [
    "%%sql\n",
    "/* Enter your SQL query below */\n",
    "\n"
   ]
  },
  {
   "cell_type": "markdown",
   "metadata": {},
   "source": [
    "<div class=\"exercise\"><b>Exercise 3:</b></div> \n",
    "\n",
    "Use an SQL query to determine in which year was the maximum number of cell phones in any country (in the `indicators` table).\n",
    "\n",
    "**Note:** Your query should reveal that the maximum number of cell phones in any country was in **2017**."
   ]
  },
  {
   "cell_type": "code",
   "execution_count": null,
   "metadata": {},
   "outputs": [],
   "source": [
    "%%sql\n",
    "/* Enter your SQL query below */\n",
    "\n"
   ]
  },
  {
   "cell_type": "markdown",
   "metadata": {},
   "source": [
    "<div class=\"exercise\"><b>Exercise 4:</b></div> \n",
    "\n",
    "Write a query to find all the distinct years that appear in the `indicators` table. Limit the results to 5 rows.\n",
    "\n",
    "The output from my solution is:<br>\n",
    "<code>\n",
    "year\n",
    "1960\n",
    "1961\n",
    "1962\n",
    "1963\n",
    "1964\n",
    "</code>"
   ]
  },
  {
   "cell_type": "code",
   "execution_count": null,
   "metadata": {},
   "outputs": [],
   "source": [
    "%%sql\n",
    "/* Enter your SQL query below */\n",
    "\n"
   ]
  },
  {
   "cell_type": "markdown",
   "metadata": {},
   "source": [
    "<div class=\"exercise\"><b>Exercise 5:</b></div> \n",
    "\n",
    "With regards to the `indicators` table, write a query that selects all the fields, but only returns rows for which there is no missing data for the `gdp` field.  Limit your results to five rows.\n",
    "\n",
    "The output from my solution is:<br>\n",
    "<code>\n",
    "year\tcode\tpop\tgdp\tlife\tcell\timports exports\n",
    "1960\tAFG\t9.0\t 0.54\t32.3\t0.0\tNone\t   49.9\n",
    "1960\tAUS\t10.28  18.58\t70.8\t0.0\t2524.06  2022.9\n",
    "1960\tAUT\t7.05\t6.59\t68.6\t0.0\t1408.8   1118.9\n",
    "1960\tBDI\t2.8 \t0.2\t 41.3\t0.0\tNone\t   None\n",
    "1960\tBEL\t9.15\t11.66   69.7\t0.0\tNone\t   None\n",
    "</code>"
   ]
  },
  {
   "cell_type": "code",
   "execution_count": null,
   "metadata": {},
   "outputs": [],
   "source": [
    "%%sql\n",
    "/* Enter your SQL query below */\n",
    "\n"
   ]
  },
  {
   "cell_type": "markdown",
   "metadata": {},
   "source": [
    "<div class=\"exercise\"><b>Exercise 6:</b></div> \n",
    "\n",
    "Write a query to find all rows of the `indicators` table where the life expectancy is between 50 and 65 (inclusively), ordered from largest to smallest life expectancy. Include the `year`, `code`, `pop`, and `life` fields for such rows.  Limit your results to five rows.\n",
    "\n",
    "The output from my solution is:<br>\n",
    "<code>\n",
    "year\tcode   pop\tlife\n",
    "1960\tARG\t20.48  65.0\n",
    "1961\tHRV\t4.17   65.0\n",
    "1961\tJAM\t1.65   65.0\n",
    "1965\tBRN\t0.1    65.0\n",
    "1965\tPRT\t9.0\t65.0\n",
    "</code>"
   ]
  },
  {
   "cell_type": "code",
   "execution_count": null,
   "metadata": {},
   "outputs": [],
   "source": [
    "%%sql\n",
    "/* Enter your SQL query below */\n",
    "\n"
   ]
  },
  {
   "cell_type": "markdown",
   "metadata": {},
   "source": [
    "<div class=\"exercise\"><b>Exercise 7:</b></div> \n",
    "\n",
    "Write a query to find all rows of the `indicators` table where exports are greater than imports, ordered by exports from smallest to largest.  Include the `year`, `code`, `imports`, and `exports` fields for such rows.  Limit your results to five rows.\n",
    "\n",
    "The output from my solution is:<br>\n",
    "<code>\n",
    "year\tcode imports exports\n",
    "1962\tFRO\t 0.1\t  0.7\n",
    "1960\tTGO\t 0.4\t  1.0\n",
    "1961\tTGO\t 0.6\t  2.5\n",
    "1960\tBRN\t 1.3\t  3.3\n",
    "1961\tBFA\t 0.3\t  3.7\n",
    "</code>"
   ]
  },
  {
   "cell_type": "code",
   "execution_count": null,
   "metadata": {},
   "outputs": [],
   "source": [
    "%%sql\n",
    "/* Enter your SQL query below */\n",
    "\n"
   ]
  },
  {
   "cell_type": "markdown",
   "metadata": {},
   "source": [
    "<div class=\"exercise\"><b>Exercise 8:</b></div> \n",
    "\n",
    "Write a query to find all distinct country codes that appear in the `indicators` table, ordered in reverse alphabetically order.  Limit your results to five rows.\n",
    "\n",
    "The output from my solution is:<br>\n",
    "<code>\n",
    "code\n",
    "ZWE\n",
    "ZMB\n",
    "ZAF\n",
    "YEM\n",
    "XKX\n",
    "</code>"
   ]
  },
  {
   "cell_type": "code",
   "execution_count": null,
   "metadata": {},
   "outputs": [],
   "source": [
    "%%sql\n",
    "/* Enter your SQL query below */\n",
    "\n"
   ]
  },
  {
   "cell_type": "markdown",
   "metadata": {},
   "source": [
    "<div class=\"exercise\"><b>Exercise 9:</b></div> \n",
    "\n",
    "Write a query to find all the countries that *end* with `'Islands'` as a suffix in the `countries` table.  Project only the `country` and `region` fields. \n",
    "\n",
    "The output from my solution is:<br>\n",
    "<code>\n",
    "country\t                 region\n",
    "Channel Islands\t         Europe & Central Asia\n",
    "Cayman Islands\t          Latin America & Caribbean\n",
    "Faroe Islands\t           Europe & Central Asia\n",
    "Marshall Islands\t        East Asia & Pacific\n",
    "Northern Mariana Islands    East Asia & Pacific\n",
    "Solomon Islands\t         East Asia & Pacific\n",
    "Turks and Caicos Islands    Latin America & Caribbean\n",
    "British Virgin Islands\t  Latin America & Caribbean\n",
    "</code>"
   ]
  },
  {
   "cell_type": "code",
   "execution_count": null,
   "metadata": {},
   "outputs": [],
   "source": [
    "%%sql\n",
    "/* Enter your SQL query below */\n",
    "\n"
   ]
  },
  {
   "cell_type": "markdown",
   "metadata": {},
   "source": [
    "<div class=\"exercise\"><b>Exercise 10:</b></div> \n",
    "\n",
    "With regards to the `countries` table, write a query to find all the regions that contain the word `'East'` (anywhere in the `region` field).  Project only the `country` and `region` fields and sort by `country`.  Limit your results to five records.\n",
    "\n",
    "The output from my solution is:<br>\n",
    "<code>\n",
    "country\t       region\n",
    "Algeria\t       Middle East & North Africa\n",
    "American Samoa\t       East Asia & Pacific\n",
    "Australia\t            East Asia & Pacific\n",
    "Bahrain\t       Middle East & North Africa\n",
    "Brunei Darussalam        East Asia & Pacific\n",
    "</code>"
   ]
  },
  {
   "cell_type": "code",
   "execution_count": null,
   "metadata": {},
   "outputs": [],
   "source": [
    "%%sql\n",
    "/* Enter your SQL query below */\n",
    "\n"
   ]
  },
  {
   "cell_type": "markdown",
   "metadata": {},
   "source": [
    "<div class=\"exercise\"><b>Exercise 11:</b></div> \n",
    "\n",
    "With regards to the `indicators` table, project the `year`, `code`, `gdp`, `imports`, and `exports` fields, and create a new (Boolean) column named `new` that that indicates whether `exports` are larger than `imports`.  Sort by `exports` in descending order and limit the results to 10 rows.\n",
    "\n",
    "The output from my solution is:<br>\n",
    "<code>\n",
    "year\tcode\tgdp\t   imports\t  exports\tnew\n",
    "2014\tCHN\t10438.5\t1963110.0\t2343220.0\t1\n",
    "2015\tCHN\t11015.5\t1601760.0\t2280540.0\t1\n",
    "2017\tCHN\t12143.5\t1832130.0\t2280090.0\t1\n",
    "2013\tCHN\t9570.41\t1949300.0\t2210660.0\t1\n",
    "2016\tCHN\t11138.0\t1589460.0\t2136590.0\t1\n",
    "2012\tCHN\t8532.23\t1817340.0\t2050090.0\t1\n",
    "2011\tCHN\t7551.5 \t1741430.0\t1899280.0\t1\n",
    "2014\tUSA\t17521.8\t2347680.0\t1620480.0\t0\n",
    "2010\tCHN\t6087.16\t1393910.0\t1578440.0\t1\n",
    "2013\tUSA\t16784.8\t2268370.0\t1578430.0\t0\n",
    "</code>"
   ]
  },
  {
   "cell_type": "code",
   "execution_count": null,
   "metadata": {},
   "outputs": [],
   "source": [
    "%%sql\n",
    "/* Enter your SQL query below */\n",
    "\n"
   ]
  },
  {
   "cell_type": "markdown",
   "metadata": {},
   "source": [
    "<div class=\"exercise\"><b>Exercise 12:</b></div> \n",
    "\n",
    "With regards to the `topnames` table, select all rows where the top name is John.  Project all columns and sort by year in descending order. Limit the results to five rows.\n",
    "\n",
    "The output from my solution is:<br>\n",
    "<code>\n",
    "year\tsex\t name\tcount\n",
    "1923\tMale\tJohn\t57470\n",
    "1922\tMale\tJohn\t57277\n",
    "1921\tMale\tJohn\t58217\n",
    "1920\tMale\tJohn\t56913\n",
    "1919\tMale\tJohn\t53528\n",
    "</code>"
   ]
  },
  {
   "cell_type": "code",
   "execution_count": null,
   "metadata": {},
   "outputs": [],
   "source": [
    "%%sql\n",
    "/* Enter your SQL query below */\n",
    "\n"
   ]
  },
  {
   "cell_type": "markdown",
   "metadata": {},
   "source": [
    "<div class=\"exercise\"><b>Exercise 13:</b></div> \n",
    "\n",
    "With regards to the `topnames` table, select all rows corresponding to males who's name is not John nor Michael.  Project all columns and sort by year in descending order. Limit the results to five rows.\n",
    "\n",
    "The output from my solution is:<br>\n",
    "<code>\n",
    "year\tsex\t name\tcount\n",
    "2018\tMale\tLiam\t19837\n",
    "2017\tMale\tLiam\t18798\n",
    "2016\tMale\tNoah\t19117\n",
    "2015\tMale\tNoah\t19635\n",
    "2014\tMale\tNoah\t19305\n",
    "</code>"
   ]
  },
  {
   "cell_type": "code",
   "execution_count": null,
   "metadata": {},
   "outputs": [],
   "source": [
    "%%sql\n",
    "/* Enter your SQL query below */\n",
    "\n"
   ]
  },
  {
   "cell_type": "markdown",
   "metadata": {},
   "source": [
    "<div class=\"exercise\"><b>Exercise 14:</b></div> \n",
    "\n",
    "With regards to the `indicators` table, select all rows for which the GDP is missing and the population is greater than 140 million.  Project `year`, `code`, `gdp`, and `pop` for such rows and sort by year in ascending order.  No need to limit results.\n",
    "\n",
    "\n",
    "The output from my solution is:<br>\n",
    "<code>\n",
    "year\tcode   gdp     pop\n",
    "1982\tRUS\tNone\t140.82\n",
    "1983\tRUS\tNone\t141.67\n",
    "1984\tRUS\tNone\t142.74\n",
    "1985\tRUS\tNone\t143.86\n",
    "1986\tRUS\tNone\t144.89\n",
    "1987\tRUS\tNone\t145.91\n",
    "</code>"
   ]
  },
  {
   "cell_type": "code",
   "execution_count": null,
   "metadata": {},
   "outputs": [],
   "source": [
    "%%sql\n",
    "/* Enter your SQL query below */\n",
    "\n"
   ]
  }
 ],
 "metadata": {
  "celltoolbar": "Raw Cell Format",
  "kernelspec": {
   "display_name": "Python 3 (ipykernel)",
   "language": "python",
   "name": "python3"
  },
  "language_info": {
   "codemirror_mode": {
    "name": "ipython",
    "version": 3
   },
   "file_extension": ".py",
   "mimetype": "text/x-python",
   "name": "python",
   "nbconvert_exporter": "python",
   "pygments_lexer": "ipython3",
   "version": "3.9.13"
  }
 },
 "nbformat": 4,
 "nbformat_minor": 2
}
