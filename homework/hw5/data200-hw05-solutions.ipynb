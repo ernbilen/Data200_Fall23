{
 "cells": [
  {
   "cell_type": "markdown",
   "metadata": {},
   "source": [
    "# Data 200: Database Systems and Data Management for Data Analytics\n"
   ]
  },
  {
   "cell_type": "markdown",
   "metadata": {},
   "source": [
    "# Homework 5: Single Table Operations with SQL Part 1\n",
    "\n",
    "---\n",
    "Enter your name in the markdown cell below."
   ]
  },
  {
   "cell_type": "markdown",
   "metadata": {},
   "source": [
    "# Name: Answer Key"
   ]
  },
  {
   "cell_type": "markdown",
   "metadata": {},
   "source": [
    "# Homework Grade: 100%"
   ]
  },
  {
   "cell_type": "markdown",
   "metadata": {},
   "source": [
    "# Exercises"
   ]
  },
  {
   "cell_type": "markdown",
   "metadata": {},
   "source": [
    "This homework will make use of the `book.db` database, which is available under Files in Teams.  I suggest that you review pages 18-183 in the Course Notes to familiarize yourself with the tables in `book.db`.\n",
    "\n",
    "**Download the `book.db` database from Teams and save it to the same directory as this notebook.**\n",
    "\n",
    "**Then, run the code cell below to load SQL Magic module and connect to the `book.db` database.**"
   ]
  },
  {
   "cell_type": "code",
   "execution_count": 4,
   "metadata": {},
   "outputs": [],
   "source": [
    "%load_ext sql\n",
    "%sql sqlite:///book.db"
   ]
  },
  {
   "cell_type": "markdown",
   "metadata": {},
   "source": [
    "<div class=\"exercise\"><b>Exercise 1:</b></div> \n",
    "\n",
    "Select the `year`, `code`, `pop`, and `cell` fields from the `indicators` table, limiting the results to 5 records.\n",
    "\n",
    "The output from my solution is:<br>\n",
    "<code>\n",
    "year\tcode   pop\tcell\n",
    "1960\tABW\t0.05\t0.0\n",
    "1960\tAFG\t9.0\t 0.0\n",
    "1960\tAGO\t5.45\t0.0\n",
    "1960\tALB\t1.61\t0.0\n",
    "1960\tAND\t0.01\t0.0\n",
    "</code>"
   ]
  },
  {
   "cell_type": "code",
   "execution_count": 5,
   "metadata": {},
   "outputs": [
    {
     "name": "stdout",
     "output_type": "stream",
     "text": [
      " * sqlite:///book.db\n",
      "Done.\n"
     ]
    },
    {
     "data": {
      "text/html": [
       "<table>\n",
       "    <tr>\n",
       "        <th>year</th>\n",
       "        <th>code</th>\n",
       "        <th>pop</th>\n",
       "        <th>cell</th>\n",
       "    </tr>\n",
       "    <tr>\n",
       "        <td>1960</td>\n",
       "        <td>ABW</td>\n",
       "        <td>0.05</td>\n",
       "        <td>0.0</td>\n",
       "    </tr>\n",
       "    <tr>\n",
       "        <td>1960</td>\n",
       "        <td>AFG</td>\n",
       "        <td>9.0</td>\n",
       "        <td>0.0</td>\n",
       "    </tr>\n",
       "    <tr>\n",
       "        <td>1960</td>\n",
       "        <td>AGO</td>\n",
       "        <td>5.45</td>\n",
       "        <td>0.0</td>\n",
       "    </tr>\n",
       "    <tr>\n",
       "        <td>1960</td>\n",
       "        <td>ALB</td>\n",
       "        <td>1.61</td>\n",
       "        <td>0.0</td>\n",
       "    </tr>\n",
       "    <tr>\n",
       "        <td>1960</td>\n",
       "        <td>AND</td>\n",
       "        <td>0.01</td>\n",
       "        <td>0.0</td>\n",
       "    </tr>\n",
       "</table>"
      ],
      "text/plain": [
       "[(1960, 'ABW', 0.05, 0.0),\n",
       " (1960, 'AFG', 9.0, 0.0),\n",
       " (1960, 'AGO', 5.45, 0.0),\n",
       " (1960, 'ALB', 1.61, 0.0),\n",
       " (1960, 'AND', 0.01, 0.0)]"
      ]
     },
     "execution_count": 5,
     "metadata": {},
     "output_type": "execute_result"
    }
   ],
   "source": [
    "%%sql\n",
    "\n",
    "SELECT year, code, pop, cell FROM indicators\n",
    "LIMIT 5"
   ]
  },
  {
   "cell_type": "markdown",
   "metadata": {},
   "source": [
    "<div class=\"exercise\"><b>Exercise 2:</b></div> \n",
    "\n",
    "Use an SQL query to select the `year`, `code`, `pop`, `gdp`, and `life` fields from the `indicators` table, ordered by life expectancy from high to low.  Limit the number of records to six.\n",
    "\n",
    "The output from my solution is:<br>\n",
    "<code>\n",
    "year\tcode\tpop\tgdp\t   life\n",
    "2012\tSMR\t0.03\t1.8\t   85.4\n",
    "2017\tHKG\t7.39\t341.65\t84.7\n",
    "2015\tHKG\t7.29\t309.38\t84.3\n",
    "2016\tHKG\t7.34\t320.86\t84.2\n",
    "2017\tJPN\t126.79  4859.95   84.1\n",
    "2014\tHKG\t7.23\t291.46\t84.0\n",
    "</code>"
   ]
  },
  {
   "cell_type": "code",
   "execution_count": 6,
   "metadata": {},
   "outputs": [
    {
     "name": "stdout",
     "output_type": "stream",
     "text": [
      " * sqlite:///book.db\n",
      "Done.\n"
     ]
    },
    {
     "data": {
      "text/html": [
       "<table>\n",
       "    <tr>\n",
       "        <th>year</th>\n",
       "        <th>code</th>\n",
       "        <th>pop</th>\n",
       "        <th>gdp</th>\n",
       "        <th>life</th>\n",
       "    </tr>\n",
       "    <tr>\n",
       "        <td>2012</td>\n",
       "        <td>SMR</td>\n",
       "        <td>0.03</td>\n",
       "        <td>1.8</td>\n",
       "        <td>85.4</td>\n",
       "    </tr>\n",
       "    <tr>\n",
       "        <td>2017</td>\n",
       "        <td>HKG</td>\n",
       "        <td>7.39</td>\n",
       "        <td>341.65</td>\n",
       "        <td>84.7</td>\n",
       "    </tr>\n",
       "    <tr>\n",
       "        <td>2015</td>\n",
       "        <td>HKG</td>\n",
       "        <td>7.29</td>\n",
       "        <td>309.38</td>\n",
       "        <td>84.3</td>\n",
       "    </tr>\n",
       "    <tr>\n",
       "        <td>2016</td>\n",
       "        <td>HKG</td>\n",
       "        <td>7.34</td>\n",
       "        <td>320.86</td>\n",
       "        <td>84.2</td>\n",
       "    </tr>\n",
       "    <tr>\n",
       "        <td>2017</td>\n",
       "        <td>JPN</td>\n",
       "        <td>126.79</td>\n",
       "        <td>4859.95</td>\n",
       "        <td>84.1</td>\n",
       "    </tr>\n",
       "    <tr>\n",
       "        <td>2014</td>\n",
       "        <td>HKG</td>\n",
       "        <td>7.23</td>\n",
       "        <td>291.46</td>\n",
       "        <td>84.0</td>\n",
       "    </tr>\n",
       "</table>"
      ],
      "text/plain": [
       "[(2012, 'SMR', 0.03, 1.8, 85.4),\n",
       " (2017, 'HKG', 7.39, 341.65, 84.7),\n",
       " (2015, 'HKG', 7.29, 309.38, 84.3),\n",
       " (2016, 'HKG', 7.34, 320.86, 84.2),\n",
       " (2017, 'JPN', 126.79, 4859.95, 84.1),\n",
       " (2014, 'HKG', 7.23, 291.46, 84.0)]"
      ]
     },
     "execution_count": 6,
     "metadata": {},
     "output_type": "execute_result"
    }
   ],
   "source": [
    "%%sql\n",
    "\n",
    "SELECT year, code, pop, gdp, life FROM indicators\n",
    "ORDER BY life DESC\n",
    "LIMIT 6"
   ]
  },
  {
   "cell_type": "markdown",
   "metadata": {},
   "source": [
    "<div class=\"exercise\"><b>Exercise 3:</b></div> \n",
    "\n",
    "Use an SQL query to determine in which year was the maximum number of cell phones in any country.\n",
    "\n",
    "**Note:** Your query should reveal that the maximum number of cell phones in any country was in **2017**."
   ]
  },
  {
   "cell_type": "code",
   "execution_count": 7,
   "metadata": {},
   "outputs": [
    {
     "name": "stdout",
     "output_type": "stream",
     "text": [
      " * sqlite:///book.db\n",
      "Done.\n"
     ]
    },
    {
     "data": {
      "text/html": [
       "<table>\n",
       "    <tr>\n",
       "        <th>year</th>\n",
       "        <th>cell</th>\n",
       "    </tr>\n",
       "    <tr>\n",
       "        <td>2017</td>\n",
       "        <td>1469.88</td>\n",
       "    </tr>\n",
       "    <tr>\n",
       "        <td>2016</td>\n",
       "        <td>1364.93</td>\n",
       "    </tr>\n",
       "    <tr>\n",
       "        <td>2015</td>\n",
       "        <td>1291.98</td>\n",
       "    </tr>\n",
       "    <tr>\n",
       "        <td>2014</td>\n",
       "        <td>1286.09</td>\n",
       "    </tr>\n",
       "</table>"
      ],
      "text/plain": [
       "[(2017, 1469.88), (2016, 1364.93), (2015, 1291.98), (2014, 1286.09)]"
      ]
     },
     "execution_count": 7,
     "metadata": {},
     "output_type": "execute_result"
    }
   ],
   "source": [
    "%%sql\n",
    "\n",
    "SELECT year, cell FROM indicators\n",
    "ORDER BY cell DESC\n",
    "LIMIT 4"
   ]
  },
  {
   "cell_type": "markdown",
   "metadata": {},
   "source": [
    "<div class=\"exercise\"><b>Exercise 4:</b></div> \n",
    "\n",
    "Write a query to find all the distinct years that appear in the `indicators` table. Limit the results to 5 rows.\n",
    "\n",
    "The output from my solution is:<br>\n",
    "<code>\n",
    "year\n",
    "1960\n",
    "1961\n",
    "1962\n",
    "1963\n",
    "1964\n",
    "</code>"
   ]
  },
  {
   "cell_type": "code",
   "execution_count": 8,
   "metadata": {},
   "outputs": [
    {
     "name": "stdout",
     "output_type": "stream",
     "text": [
      " * sqlite:///book.db\n",
      "Done.\n"
     ]
    },
    {
     "data": {
      "text/html": [
       "<table>\n",
       "    <tr>\n",
       "        <th>year</th>\n",
       "    </tr>\n",
       "    <tr>\n",
       "        <td>1960</td>\n",
       "    </tr>\n",
       "    <tr>\n",
       "        <td>1961</td>\n",
       "    </tr>\n",
       "    <tr>\n",
       "        <td>1962</td>\n",
       "    </tr>\n",
       "    <tr>\n",
       "        <td>1963</td>\n",
       "    </tr>\n",
       "    <tr>\n",
       "        <td>1964</td>\n",
       "    </tr>\n",
       "</table>"
      ],
      "text/plain": [
       "[(1960,), (1961,), (1962,), (1963,), (1964,)]"
      ]
     },
     "execution_count": 8,
     "metadata": {},
     "output_type": "execute_result"
    }
   ],
   "source": [
    "%%sql\n",
    "\n",
    "SELECT DISTINCT year FROM indicators\n",
    "LIMIT 5"
   ]
  },
  {
   "cell_type": "markdown",
   "metadata": {},
   "source": [
    "<div class=\"exercise\"><b>Exercise 5:</b></div> \n",
    "\n",
    "With regards to the `indicators` table, write a query that selects all the fields, but only returns rows for which there is no missing data for the `gdp` field.  Limit your results to five rows.\n",
    "\n",
    "The output from my solution is:<br>\n",
    "<code>\n",
    "year\tcode\tpop\tgdp\tlife\tcell\timports exports\n",
    "1960\tAFG\t9.0\t 0.54\t32.3\t0.0\tNone\t   49.9\n",
    "1960\tAUS\t10.28  18.58\t70.8\t0.0\t2524.06  2022.9\n",
    "1960\tAUT\t7.05\t6.59\t68.6\t0.0\t1408.8   1118.9\n",
    "1960\tBDI\t2.8 \t0.2\t 41.3\t0.0\tNone\t   None\n",
    "1960\tBEL\t9.15\t11.66   69.7\t0.0\tNone\t   None\n",
    "</code>"
   ]
  },
  {
   "cell_type": "code",
   "execution_count": 9,
   "metadata": {},
   "outputs": [
    {
     "name": "stdout",
     "output_type": "stream",
     "text": [
      " * sqlite:///book.db\n",
      "Done.\n"
     ]
    },
    {
     "data": {
      "text/html": [
       "<table>\n",
       "    <tr>\n",
       "        <th>year</th>\n",
       "        <th>code</th>\n",
       "        <th>pop</th>\n",
       "        <th>gdp</th>\n",
       "        <th>life</th>\n",
       "        <th>cell</th>\n",
       "        <th>imports</th>\n",
       "        <th>exports</th>\n",
       "    </tr>\n",
       "    <tr>\n",
       "        <td>1960</td>\n",
       "        <td>AFG</td>\n",
       "        <td>9.0</td>\n",
       "        <td>0.54</td>\n",
       "        <td>32.3</td>\n",
       "        <td>0.0</td>\n",
       "        <td>None</td>\n",
       "        <td>49.9</td>\n",
       "    </tr>\n",
       "    <tr>\n",
       "        <td>1960</td>\n",
       "        <td>AUS</td>\n",
       "        <td>10.28</td>\n",
       "        <td>18.58</td>\n",
       "        <td>70.8</td>\n",
       "        <td>0.0</td>\n",
       "        <td>2524.06</td>\n",
       "        <td>2022.9</td>\n",
       "    </tr>\n",
       "    <tr>\n",
       "        <td>1960</td>\n",
       "        <td>AUT</td>\n",
       "        <td>7.05</td>\n",
       "        <td>6.59</td>\n",
       "        <td>68.6</td>\n",
       "        <td>0.0</td>\n",
       "        <td>1408.8</td>\n",
       "        <td>1118.9</td>\n",
       "    </tr>\n",
       "    <tr>\n",
       "        <td>1960</td>\n",
       "        <td>BDI</td>\n",
       "        <td>2.8</td>\n",
       "        <td>0.2</td>\n",
       "        <td>41.3</td>\n",
       "        <td>0.0</td>\n",
       "        <td>None</td>\n",
       "        <td>None</td>\n",
       "    </tr>\n",
       "    <tr>\n",
       "        <td>1960</td>\n",
       "        <td>BEL</td>\n",
       "        <td>9.15</td>\n",
       "        <td>11.66</td>\n",
       "        <td>69.7</td>\n",
       "        <td>0.0</td>\n",
       "        <td>None</td>\n",
       "        <td>None</td>\n",
       "    </tr>\n",
       "</table>"
      ],
      "text/plain": [
       "[(1960, 'AFG', 9.0, 0.54, 32.3, 0.0, None, 49.9),\n",
       " (1960, 'AUS', 10.28, 18.58, 70.8, 0.0, 2524.06, 2022.9),\n",
       " (1960, 'AUT', 7.05, 6.59, 68.6, 0.0, 1408.8, 1118.9),\n",
       " (1960, 'BDI', 2.8, 0.2, 41.3, 0.0, None, None),\n",
       " (1960, 'BEL', 9.15, 11.66, 69.7, 0.0, None, None)]"
      ]
     },
     "execution_count": 9,
     "metadata": {},
     "output_type": "execute_result"
    }
   ],
   "source": [
    "%%sql\n",
    "\n",
    "SELECT * FROM indicators\n",
    "WHERE gdp IS NOT NULL\n",
    "LIMIT 5"
   ]
  },
  {
   "cell_type": "markdown",
   "metadata": {},
   "source": [
    "<div class=\"exercise\"><b>Exercise 6:</b></div> \n",
    "\n",
    "Write a query to find all rows of the `indicators` table where the life expectancy is between 50 and 65 (inclusively), ordered from largest to smallest life expectancy. Include the `year`, `code`, `pop`, and `life` fields for such rows.  Limit your results to five rows.\n",
    "\n",
    "The output from my solution is:<br>\n",
    "<code>\n",
    "year\tcode   pop\tlife\n",
    "1960\tARG\t20.48  65.0\n",
    "1961\tHRV\t4.17   65.0\n",
    "1961\tJAM\t1.65   65.0\n",
    "1965\tBRN\t0.1    65.0\n",
    "1965\tPRT\t9.0\t65.0\n",
    "</code>"
   ]
  },
  {
   "cell_type": "code",
   "execution_count": 10,
   "metadata": {},
   "outputs": [
    {
     "name": "stdout",
     "output_type": "stream",
     "text": [
      " * sqlite:///book.db\n",
      "Done.\n"
     ]
    },
    {
     "data": {
      "text/html": [
       "<table>\n",
       "    <tr>\n",
       "        <th>year</th>\n",
       "        <th>code</th>\n",
       "        <th>pop</th>\n",
       "        <th>life</th>\n",
       "    </tr>\n",
       "    <tr>\n",
       "        <td>1960</td>\n",
       "        <td>ARG</td>\n",
       "        <td>20.48</td>\n",
       "        <td>65.0</td>\n",
       "    </tr>\n",
       "    <tr>\n",
       "        <td>1961</td>\n",
       "        <td>HRV</td>\n",
       "        <td>4.17</td>\n",
       "        <td>65.0</td>\n",
       "    </tr>\n",
       "    <tr>\n",
       "        <td>1961</td>\n",
       "        <td>JAM</td>\n",
       "        <td>1.65</td>\n",
       "        <td>65.0</td>\n",
       "    </tr>\n",
       "    <tr>\n",
       "        <td>1965</td>\n",
       "        <td>BRN</td>\n",
       "        <td>0.1</td>\n",
       "        <td>65.0</td>\n",
       "    </tr>\n",
       "    <tr>\n",
       "        <td>1965</td>\n",
       "        <td>PRT</td>\n",
       "        <td>9.0</td>\n",
       "        <td>65.0</td>\n",
       "    </tr>\n",
       "</table>"
      ],
      "text/plain": [
       "[(1960, 'ARG', 20.48, 65.0),\n",
       " (1961, 'HRV', 4.17, 65.0),\n",
       " (1961, 'JAM', 1.65, 65.0),\n",
       " (1965, 'BRN', 0.1, 65.0),\n",
       " (1965, 'PRT', 9.0, 65.0)]"
      ]
     },
     "execution_count": 10,
     "metadata": {},
     "output_type": "execute_result"
    }
   ],
   "source": [
    "%%sql\n",
    "\n",
    "SELECT year, code, pop, life FROM indicators\n",
    "WHERE life BETWEEN 50 AND 65\n",
    "ORDER by life DESC\n",
    "LIMIT 5"
   ]
  },
  {
   "cell_type": "markdown",
   "metadata": {},
   "source": [
    "<div class=\"exercise\"><b>Exercise 7:</b></div> \n",
    "\n",
    "Write a query to find all rows of the `indicators` table where exports are greater than imports, ordered by exports from smallest to largest.  Include the `year`, `code`, `imports`, and `exports` fields for such rows.  Limit your results to five rows.\n",
    "\n",
    "The output from my solution is:<br>\n",
    "<code>\n",
    "year\tcode imports exports\n",
    "1962\tFRO\t 0.1\t  0.7\n",
    "1960\tTGO\t 0.4\t  1.0\n",
    "1961\tTGO\t 0.6\t  2.5\n",
    "1960\tBRN\t 1.3\t  3.3\n",
    "1961\tBFA\t 0.3\t  3.7\n",
    "</code>"
   ]
  },
  {
   "cell_type": "code",
   "execution_count": 11,
   "metadata": {},
   "outputs": [
    {
     "name": "stdout",
     "output_type": "stream",
     "text": [
      " * sqlite:///book.db\n",
      "Done.\n"
     ]
    },
    {
     "data": {
      "text/html": [
       "<table>\n",
       "    <tr>\n",
       "        <th>year</th>\n",
       "        <th>code</th>\n",
       "        <th>imports</th>\n",
       "        <th>exports</th>\n",
       "    </tr>\n",
       "    <tr>\n",
       "        <td>1962</td>\n",
       "        <td>FRO</td>\n",
       "        <td>0.1</td>\n",
       "        <td>0.7</td>\n",
       "    </tr>\n",
       "    <tr>\n",
       "        <td>1960</td>\n",
       "        <td>TGO</td>\n",
       "        <td>0.4</td>\n",
       "        <td>1.0</td>\n",
       "    </tr>\n",
       "    <tr>\n",
       "        <td>1961</td>\n",
       "        <td>TGO</td>\n",
       "        <td>0.6</td>\n",
       "        <td>2.5</td>\n",
       "    </tr>\n",
       "    <tr>\n",
       "        <td>1960</td>\n",
       "        <td>BRN</td>\n",
       "        <td>1.3</td>\n",
       "        <td>3.3</td>\n",
       "    </tr>\n",
       "    <tr>\n",
       "        <td>1961</td>\n",
       "        <td>BFA</td>\n",
       "        <td>0.3</td>\n",
       "        <td>3.7</td>\n",
       "    </tr>\n",
       "</table>"
      ],
      "text/plain": [
       "[(1962, 'FRO', 0.1, 0.7),\n",
       " (1960, 'TGO', 0.4, 1.0),\n",
       " (1961, 'TGO', 0.6, 2.5),\n",
       " (1960, 'BRN', 1.3, 3.3),\n",
       " (1961, 'BFA', 0.3, 3.7)]"
      ]
     },
     "execution_count": 11,
     "metadata": {},
     "output_type": "execute_result"
    }
   ],
   "source": [
    "%%sql\n",
    "\n",
    "SELECT year, code, imports, exports FROM indicators\n",
    "WHERE exports > imports\n",
    "ORDER BY exports\n",
    "LIMIT 5"
   ]
  },
  {
   "cell_type": "markdown",
   "metadata": {},
   "source": [
    "<div class=\"exercise\"><b>Exercise 8:</b></div> \n",
    "\n",
    "Write a query to find all distinct country codes that appear in the `indicators` table, ordered in reverse alphabetically order.  Limit your results to five rows.\n",
    "\n",
    "The output from my solution is:<br>\n",
    "<code>\n",
    "code\n",
    "ZWE\n",
    "ZMB\n",
    "ZAF\n",
    "YEM\n",
    "XKX\n",
    "</code>"
   ]
  },
  {
   "cell_type": "code",
   "execution_count": 12,
   "metadata": {},
   "outputs": [
    {
     "name": "stdout",
     "output_type": "stream",
     "text": [
      " * sqlite:///book.db\n",
      "Done.\n"
     ]
    },
    {
     "data": {
      "text/html": [
       "<table>\n",
       "    <tr>\n",
       "        <th>code</th>\n",
       "    </tr>\n",
       "    <tr>\n",
       "        <td>ZWE</td>\n",
       "    </tr>\n",
       "    <tr>\n",
       "        <td>ZMB</td>\n",
       "    </tr>\n",
       "    <tr>\n",
       "        <td>ZAF</td>\n",
       "    </tr>\n",
       "    <tr>\n",
       "        <td>YEM</td>\n",
       "    </tr>\n",
       "    <tr>\n",
       "        <td>XKX</td>\n",
       "    </tr>\n",
       "</table>"
      ],
      "text/plain": [
       "[('ZWE',), ('ZMB',), ('ZAF',), ('YEM',), ('XKX',)]"
      ]
     },
     "execution_count": 12,
     "metadata": {},
     "output_type": "execute_result"
    }
   ],
   "source": [
    "%%sql\n",
    "\n",
    "SELECT DISTINCT code FROM indicators\n",
    "ORDER BY code DESC\n",
    "LIMIT 5"
   ]
  },
  {
   "cell_type": "markdown",
   "metadata": {},
   "source": [
    "<div class=\"exercise\"><b>Exercise 9:</b></div> \n",
    "\n",
    "Write a query to find all the countries that *end* with `'Islands'` as a suffix in the `countries` table.  Project only the `country` and `region` fields. \n",
    "\n",
    "The output from my solution is:<br>\n",
    "<code>\n",
    "country\t                 region\n",
    "Channel Islands\t         Europe & Central Asia\n",
    "Cayman Islands\t          Latin America & Caribbean\n",
    "Faroe Islands\t           Europe & Central Asia\n",
    "Marshall Islands\t        East Asia & Pacific\n",
    "Northern Mariana Islands    East Asia & Pacific\n",
    "Solomon Islands\t         East Asia & Pacific\n",
    "Turks and Caicos Islands    Latin America & Caribbean\n",
    "British Virgin Islands\t  Latin America & Caribbean\n",
    "</code>"
   ]
  },
  {
   "cell_type": "code",
   "execution_count": 13,
   "metadata": {},
   "outputs": [
    {
     "name": "stdout",
     "output_type": "stream",
     "text": [
      " * sqlite:///book.db\n",
      "Done.\n"
     ]
    },
    {
     "data": {
      "text/html": [
       "<table>\n",
       "    <tr>\n",
       "        <th>country</th>\n",
       "        <th>region</th>\n",
       "    </tr>\n",
       "    <tr>\n",
       "        <td>Channel Islands</td>\n",
       "        <td>Europe &amp; Central Asia</td>\n",
       "    </tr>\n",
       "    <tr>\n",
       "        <td>Cayman Islands</td>\n",
       "        <td>Latin America &amp; Caribbean</td>\n",
       "    </tr>\n",
       "    <tr>\n",
       "        <td>Faroe Islands</td>\n",
       "        <td>Europe &amp; Central Asia</td>\n",
       "    </tr>\n",
       "    <tr>\n",
       "        <td>Marshall Islands</td>\n",
       "        <td>East Asia &amp; Pacific</td>\n",
       "    </tr>\n",
       "    <tr>\n",
       "        <td>Northern Mariana Islands</td>\n",
       "        <td>East Asia &amp; Pacific</td>\n",
       "    </tr>\n",
       "    <tr>\n",
       "        <td>Solomon Islands</td>\n",
       "        <td>East Asia &amp; Pacific</td>\n",
       "    </tr>\n",
       "    <tr>\n",
       "        <td>Turks and Caicos Islands</td>\n",
       "        <td>Latin America &amp; Caribbean</td>\n",
       "    </tr>\n",
       "    <tr>\n",
       "        <td>British Virgin Islands</td>\n",
       "        <td>Latin America &amp; Caribbean</td>\n",
       "    </tr>\n",
       "</table>"
      ],
      "text/plain": [
       "[('Channel Islands', 'Europe & Central Asia'),\n",
       " ('Cayman Islands', 'Latin America & Caribbean'),\n",
       " ('Faroe Islands', 'Europe & Central Asia'),\n",
       " ('Marshall Islands', 'East Asia & Pacific'),\n",
       " ('Northern Mariana Islands', 'East Asia & Pacific'),\n",
       " ('Solomon Islands', 'East Asia & Pacific'),\n",
       " ('Turks and Caicos Islands', 'Latin America & Caribbean'),\n",
       " ('British Virgin Islands', 'Latin America & Caribbean')]"
      ]
     },
     "execution_count": 13,
     "metadata": {},
     "output_type": "execute_result"
    }
   ],
   "source": [
    "%%sql\n",
    "\n",
    "SELECT country, region FROM countries\n",
    "WHERE country LIKE '%Islands'"
   ]
  },
  {
   "cell_type": "markdown",
   "metadata": {},
   "source": [
    "<div class=\"exercise\"><b>Exercise 10:</b></div> \n",
    "\n",
    "With regards to the `countries` table, write a query to find all the regions that contain the word `'East'` (anywhere in the `region` field).  Project only the `country` and `region` fields and sort by `country`.  Limit your results to five records.\n",
    "\n",
    "The output from my solution is:<br>\n",
    "<code>\n",
    "country\t       region\n",
    "Algeria\t       Middle East & North Africa\n",
    "American Samoa\t       East Asia & Pacific\n",
    "Australia\t            East Asia & Pacific\n",
    "Bahrain\t       Middle East & North Africa\n",
    "Brunei Darussalam        East Asia & Pacific\n",
    "</code>"
   ]
  },
  {
   "cell_type": "code",
   "execution_count": 14,
   "metadata": {},
   "outputs": [
    {
     "name": "stdout",
     "output_type": "stream",
     "text": [
      " * sqlite:///book.db\n",
      "Done.\n"
     ]
    },
    {
     "data": {
      "text/html": [
       "<table>\n",
       "    <tr>\n",
       "        <th>country</th>\n",
       "        <th>region</th>\n",
       "    </tr>\n",
       "    <tr>\n",
       "        <td>Algeria</td>\n",
       "        <td>Middle East &amp; North Africa</td>\n",
       "    </tr>\n",
       "    <tr>\n",
       "        <td>American Samoa</td>\n",
       "        <td>East Asia &amp; Pacific</td>\n",
       "    </tr>\n",
       "    <tr>\n",
       "        <td>Australia</td>\n",
       "        <td>East Asia &amp; Pacific</td>\n",
       "    </tr>\n",
       "    <tr>\n",
       "        <td>Bahrain</td>\n",
       "        <td>Middle East &amp; North Africa</td>\n",
       "    </tr>\n",
       "    <tr>\n",
       "        <td>Brunei Darussalam</td>\n",
       "        <td>East Asia &amp; Pacific</td>\n",
       "    </tr>\n",
       "</table>"
      ],
      "text/plain": [
       "[('Algeria', 'Middle East & North Africa'),\n",
       " ('American Samoa', 'East Asia & Pacific'),\n",
       " ('Australia', 'East Asia & Pacific'),\n",
       " ('Bahrain', 'Middle East & North Africa'),\n",
       " ('Brunei Darussalam', 'East Asia & Pacific')]"
      ]
     },
     "execution_count": 14,
     "metadata": {},
     "output_type": "execute_result"
    }
   ],
   "source": [
    "%%sql\n",
    "\n",
    "SELECT country, region FROM countries\n",
    "WHERE region LIKE '%East%'\n",
    "ORDER BY country ASC\n",
    "LIMIT 5"
   ]
  },
  {
   "cell_type": "markdown",
   "metadata": {},
   "source": [
    "<div class=\"exercise\"><b>Exercise 11:</b></div> \n",
    "\n",
    "With regards to the `indicators` table, project the `year`, `code`, `gdp`, `imports`, and `exports` fields, and create a new (Boolean) column named `new` that that indicates whether `exports` are larger than `imports`.  Sort by `exports` in descending order and limit the results to 10 rows.\n",
    "\n",
    "The output from my solution is:<br>\n",
    "<code>\n",
    "year\tcode\tgdp\t   imports\t  exports\tnew\n",
    "2014\tCHN\t10438.5\t1963110.0\t2343220.0\t1\n",
    "2015\tCHN\t11015.5\t1601760.0\t2280540.0\t1\n",
    "2017\tCHN\t12143.5\t1832130.0\t2280090.0\t1\n",
    "2013\tCHN\t9570.41\t1949300.0\t2210660.0\t1\n",
    "2016\tCHN\t11138.0\t1589460.0\t2136590.0\t1\n",
    "2012\tCHN\t8532.23\t1817340.0\t2050090.0\t1\n",
    "2011\tCHN\t7551.5 \t1741430.0\t1899280.0\t1\n",
    "2014\tUSA\t17521.8\t2347680.0\t1620480.0\t0\n",
    "2010\tCHN\t6087.16\t1393910.0\t1578440.0\t1\n",
    "2013\tUSA\t16784.8\t2268370.0\t1578430.0\t0\n",
    "</code>"
   ]
  },
  {
   "cell_type": "code",
   "execution_count": 15,
   "metadata": {},
   "outputs": [
    {
     "name": "stdout",
     "output_type": "stream",
     "text": [
      " * sqlite:///book.db\n",
      "Done.\n"
     ]
    },
    {
     "data": {
      "text/html": [
       "<table>\n",
       "    <tr>\n",
       "        <th>year</th>\n",
       "        <th>code</th>\n",
       "        <th>gdp</th>\n",
       "        <th>imports</th>\n",
       "        <th>exports</th>\n",
       "        <th>new</th>\n",
       "    </tr>\n",
       "    <tr>\n",
       "        <td>2014</td>\n",
       "        <td>CHN</td>\n",
       "        <td>10438.5</td>\n",
       "        <td>1963110.0</td>\n",
       "        <td>2343220.0</td>\n",
       "        <td>1</td>\n",
       "    </tr>\n",
       "    <tr>\n",
       "        <td>2015</td>\n",
       "        <td>CHN</td>\n",
       "        <td>11015.5</td>\n",
       "        <td>1601760.0</td>\n",
       "        <td>2280540.0</td>\n",
       "        <td>1</td>\n",
       "    </tr>\n",
       "    <tr>\n",
       "        <td>2017</td>\n",
       "        <td>CHN</td>\n",
       "        <td>12143.5</td>\n",
       "        <td>1832130.0</td>\n",
       "        <td>2280090.0</td>\n",
       "        <td>1</td>\n",
       "    </tr>\n",
       "    <tr>\n",
       "        <td>2013</td>\n",
       "        <td>CHN</td>\n",
       "        <td>9570.41</td>\n",
       "        <td>1949300.0</td>\n",
       "        <td>2210660.0</td>\n",
       "        <td>1</td>\n",
       "    </tr>\n",
       "    <tr>\n",
       "        <td>2016</td>\n",
       "        <td>CHN</td>\n",
       "        <td>11138.0</td>\n",
       "        <td>1589460.0</td>\n",
       "        <td>2136590.0</td>\n",
       "        <td>1</td>\n",
       "    </tr>\n",
       "    <tr>\n",
       "        <td>2012</td>\n",
       "        <td>CHN</td>\n",
       "        <td>8532.23</td>\n",
       "        <td>1817340.0</td>\n",
       "        <td>2050090.0</td>\n",
       "        <td>1</td>\n",
       "    </tr>\n",
       "    <tr>\n",
       "        <td>2011</td>\n",
       "        <td>CHN</td>\n",
       "        <td>7551.5</td>\n",
       "        <td>1741430.0</td>\n",
       "        <td>1899280.0</td>\n",
       "        <td>1</td>\n",
       "    </tr>\n",
       "    <tr>\n",
       "        <td>2014</td>\n",
       "        <td>USA</td>\n",
       "        <td>17521.8</td>\n",
       "        <td>2347680.0</td>\n",
       "        <td>1620480.0</td>\n",
       "        <td>0</td>\n",
       "    </tr>\n",
       "    <tr>\n",
       "        <td>2010</td>\n",
       "        <td>CHN</td>\n",
       "        <td>6087.16</td>\n",
       "        <td>1393910.0</td>\n",
       "        <td>1578440.0</td>\n",
       "        <td>1</td>\n",
       "    </tr>\n",
       "    <tr>\n",
       "        <td>2013</td>\n",
       "        <td>USA</td>\n",
       "        <td>16784.8</td>\n",
       "        <td>2268370.0</td>\n",
       "        <td>1578430.0</td>\n",
       "        <td>0</td>\n",
       "    </tr>\n",
       "</table>"
      ],
      "text/plain": [
       "[(2014, 'CHN', 10438.5, 1963110.0, 2343220.0, 1),\n",
       " (2015, 'CHN', 11015.5, 1601760.0, 2280540.0, 1),\n",
       " (2017, 'CHN', 12143.5, 1832130.0, 2280090.0, 1),\n",
       " (2013, 'CHN', 9570.41, 1949300.0, 2210660.0, 1),\n",
       " (2016, 'CHN', 11138.0, 1589460.0, 2136590.0, 1),\n",
       " (2012, 'CHN', 8532.23, 1817340.0, 2050090.0, 1),\n",
       " (2011, 'CHN', 7551.5, 1741430.0, 1899280.0, 1),\n",
       " (2014, 'USA', 17521.8, 2347680.0, 1620480.0, 0),\n",
       " (2010, 'CHN', 6087.16, 1393910.0, 1578440.0, 1),\n",
       " (2013, 'USA', 16784.8, 2268370.0, 1578430.0, 0)]"
      ]
     },
     "execution_count": 15,
     "metadata": {},
     "output_type": "execute_result"
    }
   ],
   "source": [
    "%%sql\n",
    "\n",
    "SELECT year, code, gdp, imports, exports, exports > imports AS new FROM indicators\n",
    "ORDER BY exports DESC\n",
    "LIMIT 10"
   ]
  },
  {
   "cell_type": "markdown",
   "metadata": {},
   "source": [
    "<div class=\"exercise\"><b>Exercise 12:</b></div> \n",
    "\n",
    "With regards to the `topnames` table, select all rows where the top name is John.  Project all columns and sort by year in descending order. Limit the results to five rows.\n",
    "\n",
    "The output from my solution is:<br>\n",
    "<code>\n",
    "year\tsex\t name\tcount\n",
    "1923\tMale\tJohn\t57470\n",
    "1922\tMale\tJohn\t57277\n",
    "1921\tMale\tJohn\t58217\n",
    "1920\tMale\tJohn\t56913\n",
    "1919\tMale\tJohn\t53528\n",
    "</code>"
   ]
  },
  {
   "cell_type": "code",
   "execution_count": 16,
   "metadata": {},
   "outputs": [
    {
     "name": "stdout",
     "output_type": "stream",
     "text": [
      " * sqlite:///book.db\n",
      "Done.\n"
     ]
    },
    {
     "data": {
      "text/html": [
       "<table>\n",
       "    <tr>\n",
       "        <th>year</th>\n",
       "        <th>sex</th>\n",
       "        <th>name</th>\n",
       "        <th>count</th>\n",
       "    </tr>\n",
       "    <tr>\n",
       "        <td>1923</td>\n",
       "        <td>Male</td>\n",
       "        <td>John</td>\n",
       "        <td>57470</td>\n",
       "    </tr>\n",
       "    <tr>\n",
       "        <td>1922</td>\n",
       "        <td>Male</td>\n",
       "        <td>John</td>\n",
       "        <td>57277</td>\n",
       "    </tr>\n",
       "    <tr>\n",
       "        <td>1921</td>\n",
       "        <td>Male</td>\n",
       "        <td>John</td>\n",
       "        <td>58217</td>\n",
       "    </tr>\n",
       "    <tr>\n",
       "        <td>1920</td>\n",
       "        <td>Male</td>\n",
       "        <td>John</td>\n",
       "        <td>56913</td>\n",
       "    </tr>\n",
       "    <tr>\n",
       "        <td>1919</td>\n",
       "        <td>Male</td>\n",
       "        <td>John</td>\n",
       "        <td>53528</td>\n",
       "    </tr>\n",
       "</table>"
      ],
      "text/plain": [
       "[(1923, 'Male', 'John', 57470),\n",
       " (1922, 'Male', 'John', 57277),\n",
       " (1921, 'Male', 'John', 58217),\n",
       " (1920, 'Male', 'John', 56913),\n",
       " (1919, 'Male', 'John', 53528)]"
      ]
     },
     "execution_count": 16,
     "metadata": {},
     "output_type": "execute_result"
    }
   ],
   "source": [
    "%%sql\n",
    "\n",
    "SELECT * FROM topnames\n",
    "WHERE name = 'John'\n",
    "ORDER BY year DESC\n",
    "LIMIT 5"
   ]
  },
  {
   "cell_type": "markdown",
   "metadata": {},
   "source": [
    "<div class=\"exercise\"><b>Exercise 13:</b></div> \n",
    "\n",
    "With regards to the `topnames` table, select all rows corresponding to males who's name is not John, Noah, nor Michael.  Project all columns and sort by year in descending order. Limit the results to five rows.\n",
    "\n",
    "The output from my solution is:<br>\n",
    "<code>\n",
    "year\tsex\t name\tcount\n",
    "2018\tMale\tLiam\t19837\n",
    "2017\tMale\tLiam\t18798\n",
    "2016\tMale\tNoah\t19117\n",
    "2015\tMale\tNoah\t19635\n",
    "2014\tMale\tNoah\t19305\n",
    "</code>"
   ]
  },
  {
   "cell_type": "code",
   "execution_count": 17,
   "metadata": {},
   "outputs": [
    {
     "name": "stdout",
     "output_type": "stream",
     "text": [
      " * sqlite:///book.db\n",
      "Done.\n"
     ]
    },
    {
     "data": {
      "text/html": [
       "<table>\n",
       "    <tr>\n",
       "        <th>year</th>\n",
       "        <th>sex</th>\n",
       "        <th>name</th>\n",
       "        <th>count</th>\n",
       "    </tr>\n",
       "    <tr>\n",
       "        <td>2018</td>\n",
       "        <td>Male</td>\n",
       "        <td>Liam</td>\n",
       "        <td>19837</td>\n",
       "    </tr>\n",
       "    <tr>\n",
       "        <td>2017</td>\n",
       "        <td>Male</td>\n",
       "        <td>Liam</td>\n",
       "        <td>18798</td>\n",
       "    </tr>\n",
       "    <tr>\n",
       "        <td>2012</td>\n",
       "        <td>Male</td>\n",
       "        <td>Jacob</td>\n",
       "        <td>19074</td>\n",
       "    </tr>\n",
       "    <tr>\n",
       "        <td>2011</td>\n",
       "        <td>Male</td>\n",
       "        <td>Jacob</td>\n",
       "        <td>20371</td>\n",
       "    </tr>\n",
       "    <tr>\n",
       "        <td>2010</td>\n",
       "        <td>Male</td>\n",
       "        <td>Jacob</td>\n",
       "        <td>22127</td>\n",
       "    </tr>\n",
       "</table>"
      ],
      "text/plain": [
       "[(2018, 'Male', 'Liam', 19837),\n",
       " (2017, 'Male', 'Liam', 18798),\n",
       " (2012, 'Male', 'Jacob', 19074),\n",
       " (2011, 'Male', 'Jacob', 20371),\n",
       " (2010, 'Male', 'Jacob', 22127)]"
      ]
     },
     "execution_count": 17,
     "metadata": {},
     "output_type": "execute_result"
    }
   ],
   "source": [
    "%%sql\n",
    "\n",
    "SELECT * FROM topnames\n",
    "WHERE sex = 'Male' AND name NOT IN ('John', 'Noah', 'Michael')\n",
    "ORDER BY year DESC\n",
    "LIMIT 5"
   ]
  },
  {
   "cell_type": "markdown",
   "metadata": {},
   "source": [
    "<div class=\"exercise\"><b>Exercise 14:</b></div> \n",
    "\n",
    "With regards to the `indicators` table, select all rows for which the GDP is missing and the population is greater than 140 million.  Project `year`, `code`, `gdp`, and `pop` for such rows and sort by year in ascending order.  No need to limit results.\n",
    "\n",
    "\n",
    "The output from my solution is:<br>\n",
    "<code>\n",
    "year\tcode   gdp     pop\n",
    "1982\tRUS\tNone\t140.82\n",
    "1983\tRUS\tNone\t141.67\n",
    "1984\tRUS\tNone\t142.74\n",
    "1985\tRUS\tNone\t143.86\n",
    "1986\tRUS\tNone\t144.89\n",
    "1987\tRUS\tNone\t145.91\n",
    "</code>"
   ]
  },
  {
   "cell_type": "code",
   "execution_count": 18,
   "metadata": {},
   "outputs": [
    {
     "name": "stdout",
     "output_type": "stream",
     "text": [
      " * sqlite:///book.db\n",
      "Done.\n"
     ]
    },
    {
     "data": {
      "text/html": [
       "<table>\n",
       "    <tr>\n",
       "        <th>year</th>\n",
       "        <th>code</th>\n",
       "        <th>gdp</th>\n",
       "        <th>pop</th>\n",
       "    </tr>\n",
       "    <tr>\n",
       "        <td>1982</td>\n",
       "        <td>RUS</td>\n",
       "        <td>None</td>\n",
       "        <td>140.82</td>\n",
       "    </tr>\n",
       "    <tr>\n",
       "        <td>1983</td>\n",
       "        <td>RUS</td>\n",
       "        <td>None</td>\n",
       "        <td>141.67</td>\n",
       "    </tr>\n",
       "    <tr>\n",
       "        <td>1984</td>\n",
       "        <td>RUS</td>\n",
       "        <td>None</td>\n",
       "        <td>142.74</td>\n",
       "    </tr>\n",
       "    <tr>\n",
       "        <td>1985</td>\n",
       "        <td>RUS</td>\n",
       "        <td>None</td>\n",
       "        <td>143.86</td>\n",
       "    </tr>\n",
       "    <tr>\n",
       "        <td>1986</td>\n",
       "        <td>RUS</td>\n",
       "        <td>None</td>\n",
       "        <td>144.89</td>\n",
       "    </tr>\n",
       "    <tr>\n",
       "        <td>1987</td>\n",
       "        <td>RUS</td>\n",
       "        <td>None</td>\n",
       "        <td>145.91</td>\n",
       "    </tr>\n",
       "</table>"
      ],
      "text/plain": [
       "[(1982, 'RUS', None, 140.82),\n",
       " (1983, 'RUS', None, 141.67),\n",
       " (1984, 'RUS', None, 142.74),\n",
       " (1985, 'RUS', None, 143.86),\n",
       " (1986, 'RUS', None, 144.89),\n",
       " (1987, 'RUS', None, 145.91)]"
      ]
     },
     "execution_count": 18,
     "metadata": {},
     "output_type": "execute_result"
    }
   ],
   "source": [
    "%%sql\n",
    "\n",
    "SELECT year, code, gdp, pop FROM indicators\n",
    "WHERE gdp IS NULL AND pop > 140\n",
    "ORDER by year"
   ]
  }
 ],
 "metadata": {
  "celltoolbar": "Raw Cell Format",
  "kernelspec": {
   "display_name": "Python 3",
   "language": "python",
   "name": "python3"
  },
  "language_info": {
   "codemirror_mode": {
    "name": "ipython",
    "version": 3
   },
   "file_extension": ".py",
   "mimetype": "text/x-python",
   "name": "python",
   "nbconvert_exporter": "python",
   "pygments_lexer": "ipython3",
   "version": "3.7.6"
  }
 },
 "nbformat": 4,
 "nbformat_minor": 2
}
