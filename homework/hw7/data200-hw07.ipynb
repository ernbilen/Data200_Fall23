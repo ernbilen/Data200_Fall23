{
 "cells": [
  {
   "cell_type": "markdown",
   "metadata": {},
   "source": [
    "# Data 200: Data Systems for Data Analytics\n"
   ]
  },
  {
   "cell_type": "markdown",
   "metadata": {},
   "source": [
    "# Homework 7: Regex and API\n",
    "\n",
    "**Dickinson College**<br/>\n",
    "Prof. Eren Bilen<br/>\n",
    "<font color='red'>**Due Date:** Dec 5 beginning of class </font>\n",
    "---\n",
    "Enter your name in the markdown cell below."
   ]
  },
  {
   "cell_type": "markdown",
   "metadata": {},
   "source": [
    "# Name:"
   ]
  },
  {
   "cell_type": "markdown",
   "metadata": {},
   "source": [
    "# Tasks\n",
    "\n",
    "- Review the notes posted on Github on regular expressions and API.\n",
    "- Review pages 103-128 in Bressoud & White textbook on regular expressions.\n",
    "- Review the TMDB API documentation on https://developers.themoviedb.org/3/getting-started/introduction\n",
    "- Commit and push your completed `.ipynb` and `.md` files"
   ]
  },
  {
   "cell_type": "code",
   "execution_count": 1,
   "metadata": {},
   "outputs": [],
   "source": [
    "import re"
   ]
  },
  {
   "cell_type": "markdown",
   "metadata": {},
   "source": [
    "# Exercises: Regex"
   ]
  },
  {
   "cell_type": "markdown",
   "metadata": {},
   "source": [
    "Let's practice using regular expressions."
   ]
  },
  {
   "cell_type": "markdown",
   "metadata": {},
   "source": [
    "<div class=\"exercise\"><b>Exercise 1:</b></div> \n",
    "\n",
    "Write regex to return all numbers in the text below\n",
    "\n",
    "```Speed of light in vacuum is 299792458 m/s. Standard atmosphere 101325 Pa.```\n",
    "\n",
    "Below is the output from my solution:<br>\n",
    "<code>\n",
    "['299792458', '101325']\n",
    "</code>"
   ]
  },
  {
   "cell_type": "code",
   "execution_count": null,
   "metadata": {},
   "outputs": [],
   "source": []
  },
  {
   "cell_type": "markdown",
   "metadata": {},
   "source": [
    "<div class=\"exercise\"><b>Exercise 2:</b></div> \n",
    "\n",
    "Write regex to return the numbers in the text below\n",
    "\n",
    "```Circumference to diameter ratio is 3.141592. Gas constant 8.3144621 J/mol*K.```\n",
    "\n",
    "Below is the output from my solution:<br>\n",
    "<code>\n",
    "['3.141592', '8.3144621']\n",
    "</code>"
   ]
  },
  {
   "cell_type": "code",
   "execution_count": null,
   "metadata": {},
   "outputs": [],
   "source": []
  },
  {
   "cell_type": "markdown",
   "metadata": {},
   "source": [
    "<div class=\"exercise\"><b>Exercise 3:</b></div> \n",
    "\n",
    "Write regex to return the numbers in the text below, including its unit of measurement.\n",
    "\n",
    "```Earth to Sun distance is 149600000 km. Earth to Mars distance is 54600000 km.``\n",
    "\n",
    "Below is the output from my solution:<br>\n",
    "<code>\n",
    "['149600000 km', '54600000 km']\n",
    "</code>"
   ]
  },
  {
   "cell_type": "code",
   "execution_count": null,
   "metadata": {},
   "outputs": [],
   "source": []
  },
  {
   "cell_type": "markdown",
   "metadata": {},
   "source": [
    "<div class=\"exercise\"><b>Exercise 4:</b></div> \n",
    "\n",
    "Write regex to return all years in the text below\n",
    "\n",
    "```1 The Shawshank Redemption (1994)\n",
    "2 The Godfather (1972)\n",
    "3 The Godfather: Part II (1974) \n",
    "4 Pulp Fiction (1994) \n",
    "5 The Good, the Bad and the Ugly (1966) \n",
    "6 The Dark Knight (2008) \n",
    "7 12 Angry Men (1957) \n",
    "8 Schindler's List (1993)\n",
    "9 The Lord of the Rings: The Return of the King (2003) \n",
    "10 Fight Club (1999)```\n",
    "\n",
    "Below is the output from my solution:<br>\n",
    "<code>\n",
    "['1994',\n",
    " '1972',\n",
    " '1974',\n",
    " '1994',\n",
    " '1966',\n",
    " '2008',\n",
    " '1957',\n",
    " '1993',\n",
    " '2003',\n",
    " '1999']\n",
    "</code>"
   ]
  },
  {
   "cell_type": "code",
   "execution_count": 35,
   "metadata": {},
   "outputs": [],
   "source": [
    "text = \"1 The Shawshank Redemption (1994)\\\n",
    "2 The Godfather (1972)\\\n",
    "3 The Godfather: Part II (1974) \\\n",
    "4 Pulp Fiction (1994) \\\n",
    "5 The Good, the Bad and the Ugly (1966) \\\n",
    "6 The Dark Knight (2008) \\\n",
    "7 12 Angry Men (1957) \\\n",
    "8 Schindler's List (1993)\\\n",
    "9 The Lord of the Rings: The Return of the King (2003) \\\n",
    "10 Fight Club (1999)\""
   ]
  },
  {
   "cell_type": "code",
   "execution_count": null,
   "metadata": {},
   "outputs": [],
   "source": []
  },
  {
   "cell_type": "markdown",
   "metadata": {},
   "source": [
    "<div class=\"exercise\"><b>Exercise 5:</b></div> \n",
    "\n",
    "It is generally not recommended to parse html with regex, (BeautifulSoup package is designed just for parsing html and does it much more efficiently) but let's practice anyway in case you find yourself in a situation where regex is needed.\n",
    "\n",
    "Write regex to return the title in the html text below:"
   ]
  },
  {
   "cell_type": "code",
   "execution_count": 215,
   "metadata": {},
   "outputs": [],
   "source": [
    "text = \"\\\\n<!DOCTYPE html>\\\\n<html>\\\\n<head>\\\\n<title>This is a title</title>\\\\n</head>\\\\n<body>\\\\n<p1>Hello world!</p1>\\\\n<p2>Hello world again</p2>\\\\n</body>\\\\n</html>\\\\n\""
   ]
  },
  {
   "cell_type": "markdown",
   "metadata": {},
   "source": [
    "Below is the output from my solution:<br>\n",
    "<code>\n",
    "'This is a title'\n",
    "</code>"
   ]
  },
  {
   "cell_type": "code",
   "execution_count": null,
   "metadata": {},
   "outputs": [],
   "source": []
  },
  {
   "cell_type": "markdown",
   "metadata": {},
   "source": [
    "<div class=\"exercise\"><b>Exercise 6:</b></div> \n",
    "\n",
    "Write regex to return the content body of the website contained in the same html `text` above from Exercise 5. *Hint: Use () in your regex syntax to access inside of the html tags. Hint2: There are many ways of approaching this problem. My solution uses nested regex code.\n",
    "\n",
    "Below is the output from my solution:<br>\n",
    "<code>\n",
    "['Hello world!', 'Hello world again']\n",
    "</code>"
   ]
  },
  {
   "cell_type": "code",
   "execution_count": null,
   "metadata": {},
   "outputs": [],
   "source": []
  },
  {
   "cell_type": "markdown",
   "metadata": {},
   "source": [
    "# Exercises: API"
   ]
  },
  {
   "cell_type": "markdown",
   "metadata": {},
   "source": [
    "Please go to https://developers.themoviedb.org/3/getting-started/introduction and create a free account. Using your free account, get an API key. With your unique API key, you will be able to send requests to TMDB for data retrieval. Review the API documentation on \"/discover/movie\" at https://developers.themoviedb.org/3/discover/movie-discover"
   ]
  },
  {
   "cell_type": "code",
   "execution_count": 222,
   "metadata": {},
   "outputs": [],
   "source": [
    "import requests\n",
    "import pandas as pd"
   ]
  },
  {
   "cell_type": "markdown",
   "metadata": {},
   "source": [
    "<div class=\"exercise\"><b>Exercise 7:</b></div> \n",
    "\n",
    "Return the 10 highest rated movies (according to `vote_average`) in 2021 that have received more than 5000 votes (according to `vote_count`). Return `title`, `vote_average`, and `vote_count` *Hint: insert the filter requests to your API query*.\n",
    "\n",
    "\n",
    "Below is the output from my solution. *Note that your results might be slightly different, since there may have been new votes casted since this notebook was created.* <br>\n",
    "<code>\n",
    "                          title  vote_average  vote_count\n",
    "0  Zack Snyder's Justice League           8.2        8356\n",
    "1                        Nobody           8.1        5244\n",
    "2                       Cruella           8.1        7699\n",
    "3       Spider-Man: No Way Home           8.0       15948\n",
    "4      Raya and the Last Dragon           8.0        5717\n",
    "5              The Tomorrow War           7.9        5984\n",
    "6                          Luca           7.9        6877\n",
    "7                          Dune           7.8        8014\n",
    "8             Godzilla vs. Kong           7.7        8380\n",
    "9                       Encanto           7.7        7614\n",
    "</code>"
   ]
  },
  {
   "cell_type": "code",
   "execution_count": null,
   "metadata": {},
   "outputs": [],
   "source": []
  },
  {
   "cell_type": "markdown",
   "metadata": {},
   "source": [
    "<div class=\"exercise\"><b>Exercise 8:</b></div> \n",
    "\n",
    "Return the 10 highest rated movies (according to `vote_average`) that were released between 1980 and 2023 and have received more than 5000 votes (according to `vote_count`). Return `title`, `vote_average`, `vote_count`, and `year` *Hint: Use a combination of filtering via API request and filtering via Pandas.*.\n",
    "\n",
    "\n",
    "Below is the output from my solution. *Again, your results might be slightly different.*<br>\n",
    "<code>\n",
    "                      title  vote_average  vote_count  year\n",
    "0  The Shawshank Redemption           8.7       22733  1994\n",
    "1          Schindler's List           8.6       13478  1993\n",
    "2              Pulp Fiction           8.5       24112  1994\n",
    "3         Life Is Beautiful           8.5       11477  1997\n",
    "4                  Parasite           8.5       14772  2019\n",
    "5              Forrest Gump           8.5       23659  1994\n",
    "6                GoodFellas           8.5       10698  1990\n",
    "7            The Green Mile           8.5       14667  1999\n",
    "8             Spirited Away           8.5       13592  2001\n",
    "9                Your Name.           8.5        9255  2016\n",
    "</code>"
   ]
  },
  {
   "cell_type": "code",
   "execution_count": null,
   "metadata": {},
   "outputs": [],
   "source": []
  },
  {
   "cell_type": "markdown",
   "metadata": {},
   "source": [
    "<div class=\"exercise\"><b>Writing in Discipline (WiD) Assignment:</b></div> \n",
    "\n",
    "The SQL Murder Mystery is a fun story based game experience where you use SQL code and a careful inspection of a relational database structure to solve a murder mystery: https://mystery.knightlab.com\n",
    "\n",
    "Please go ahead and give the game a try. Feel free to use the walkthrough if you get stuck on any part of it.\n",
    "\n",
    "Your assignment is to write your own \"story\" where your story includes an event where its details could be traced in a relational database, much like the SQL Murder Mystery's story. Please feel free to be creative! After you turn in your WiD assignment, I will give you my feedback, and you will resubmit an updated version which then will be included in your WiD portfolio. Note that you have to complete this assignment even if you are not a Data Analytics Major. Please make sure your story is 500 words minimum. Feel free to use a relational database schema you construct \"by hand\" or a description of a sentient webscraper and all that sort. Good luck, and I look forward to reading your stories.\n",
    "\n",
    "Note that the cell below is already Markdown, so you can write your story as Markdown below. In addition to writing it below, please also upload it to your WID repository (both versions before and after editing) which you can access at https://forms.office.com/Pages/ResponsePage.aspx?id=VbAyYrl2E0ybiLVirn22-8NaUHs-9y9AnrNpzWbacKxUNTdFQlRHM1RPVFVFUERRWDZSQ0xJUjA1WC4u\n",
    "\n",
    "Note that the WID repo does not take in .md output, so you need to convert your .md to something like .pdf. The following website is my favorite online markdown editor that lets you export out pdf: https://dillinger.io"
   ]
  },
  {
   "cell_type": "markdown",
   "metadata": {},
   "source": []
  }
 ],
 "metadata": {
  "celltoolbar": "Raw Cell Format",
  "kernelspec": {
   "display_name": "Python 3",
   "language": "python",
   "name": "python3"
  },
  "language_info": {
   "codemirror_mode": {
    "name": "ipython",
    "version": 3
   },
   "file_extension": ".py",
   "mimetype": "text/x-python",
   "name": "python",
   "nbconvert_exporter": "python",
   "pygments_lexer": "ipython3",
   "version": "3.7.6"
  }
 },
 "nbformat": 4,
 "nbformat_minor": 2
}
